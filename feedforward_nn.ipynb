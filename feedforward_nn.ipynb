# 导入必要的库
import numpy as np
import matplotlib.pyplot as plt

# 定义激活函数及其导数
def sigmoid(x):
    return 1 / (1 + np.exp(-x))

def sigmoid_derivative(x):
    return x * (1 - x)

# 构建前馈神经网络
class FeedforwardNeuralNetwork:
    def __init__(self, input_size, hidden_size, output_size):
        self.input_size = input_size
        self.hidden_size = hidden_size
        self.output_size = output_size
        # 随机初始化权重
        self.W1 = np.random.rand(self.hidden_size, self.input_size)
        self.b1 = np.zeros((self.hidden_size, 1))
        self.W2 = np.random.rand(self.output_size, self.hidden_size)
        self.b2 = np.zeros((self.output_size, 1))

    def forward_propagation(self, X):
        # 隐藏层计算
        self.z1 = np.dot(self.W1, X) + self.b1
        self.a1 = sigmoid(self.z1)
        # 输出层计算
        self.z2 = np.dot(self.W2, self.a1) + self.b2
        self.a2 = sigmoid(self.z2)
        return self.a2

    def backpropagation(self, X, y, learning_rate):
        m = X.shape[1]
        # 计算输出层误差
        dZ2 = self.a2 - y
        dW2 = np.dot(dZ2, self.a1.T) / m
        db2 = np.sum(dZ2, axis=1, keepdims=True) / m
        # 计算隐藏层误差
        dZ1 = np.dot(self.W2.T, dZ2) * sigmoid_derivative(self.a1)
        dW1 = np.dot(dZ1, X.T) / m
        db1 = np.sum(dZ1, axis=1, keepdims=True) / m
        # 更新权重和偏置
        self.W1 -= learning_rate * dW1
        self.b1 -= learning_rate * db1
        self.W2 -= learning_rate * dW2
        self.b2 -= learning_rate * db2

    def train(self, X, y, epochs, learning_rate):
        losses = []
        for epoch in range(epochs):
            # 前馈传播
            output = self.forward_propagation(X)
            # 计算损失（交叉熵损失）
            loss = -np.sum(y * np.log(output) + (1 - y) * np.log(1 - output)) / X.shape[1]
            losses.append(loss)
            # 反向传播更新参数
            self.backpropagation(X, y, learning_rate)
            if (epoch + 1) % 100 == 0:
                print(f'Epoch {epoch + 1}: Loss = {loss}')
        return losses

    def predict(self, X):
        return self.forward_propagation(X)


# 示例使用
input_size = 2
hidden_size = 3
output_size = 1
X = np.array([[0, 0], [0, 1], [1, 0], [1, 1]]).T
y = np.array([[0], [1], [1], [0]]).T

# 创建神经网络实例
nn = FeedforwardNeuralNetwork(input_size, hidden_size, output_size)
# 训练模型
epochs = 1000
learning_rate = 0.1
losses = nn.train(X, y, epochs, learning_rate)

# 绘制损失曲线
plt.plot(range(epochs), losses)
plt.xlabel('Epochs')
plt.ylabel('Loss')
plt.title('Training Loss')
plt.show()

# 进行预测
predictions = nn.predict(X)
print("Predictions:", predictions)
